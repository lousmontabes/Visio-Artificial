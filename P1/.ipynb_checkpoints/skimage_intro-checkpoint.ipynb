{
 "cells": [
  {
   "cell_type": "markdown",
   "metadata": {},
   "source": [
    "# Short Skimage Tutorial\n",
    "\n",
    "This is a very short introduction to the [Scikit-image library](http://scikit-image.org/), including the main operations for image manipulation.\n",
    "\n",
    "Note that images manipulated by Scikit-image are simply Numpy arrays. See [A crash course on NumPy for images](http://scikit-image.org/docs/dev/user_guide/numpy_images.html#numpy-indexing) for more information."
   ]
  },
  {
   "cell_type": "markdown",
   "metadata": {},
   "source": [
    "## Reading and writing images\n",
    "\n",
    "Utilities to read and write images in various formats are available in the Module `io`."
   ]
  },
  {
   "cell_type": "code",
   "execution_count": null,
   "metadata": {
    "collapsed": false
   },
   "outputs": [],
   "source": [
    "from skimage import io\n",
    "import matplotlib.pyplot as plt\n",
    "\n",
    "img = io.imread('images/jordan.jpeg')\n",
    "plt.imshow(img) #Visualizing a figure with the image\n",
    "plt.show()\n",
    "\n",
    "img2 = img*0\n",
    "io.imsave('images/black_image.bmp',img2)"
   ]
  },
  {
   "cell_type": "markdown",
   "metadata": {},
   "source": [
    "Scikit-image provides a set of [standard test images](http://scikit-image.org/docs/dev/api/skimage.data.html?highlight=imread#skimage.data.imread) in the Module `data`: astronaut, binary_blobs, camera, checkerboard, chelsea, clock, coffee, coins, etc."
   ]
  },
  {
   "cell_type": "code",
   "execution_count": null,
   "metadata": {
    "collapsed": false
   },
   "outputs": [],
   "source": [
    "from skimage import data\n",
    "\n",
    "camera = data.camera()\n",
    "print(type(camera))\n",
    "print(camera.shape)\n",
    "print(camera.size)\n",
    "plt.imshow(camera)\n",
    "plt.show()\n",
    "plt.imshow(camera, cmap='gray') # we can visualize the image 'camera' in gray scale\n",
    "plt.show()"
   ]
  },
  {
   "cell_type": "markdown",
   "metadata": {},
   "source": [
    "## Basic image manipulation\n",
    "\n",
    "NumPy arrays representing images can be of different numerical types, such as integer or float. \n",
    "\n",
    "See [Image data types and what they mean](http://scikit-image.org/docs/dev/user_guide/data_types.html#data-types) for more information about these types and how scikit-image treats them."
   ]
  },
  {
   "cell_type": "code",
   "execution_count": null,
   "metadata": {
    "collapsed": false
   },
   "outputs": [],
   "source": [
    "from skimage import img_as_float\n",
    "import numpy as np\n",
    "\n",
    "image = np.arange(0, 50, 10, dtype=np.uint8) # arange function defines a vector from 0 to 50 in steps of 10.\n",
    "print(image)"
   ]
  },
  {
   "cell_type": "markdown",
   "metadata": {},
   "source": [
    "What is the difference between the two following operations?"
   ]
  },
  {
   "cell_type": "code",
   "execution_count": null,
   "metadata": {
    "collapsed": false
   },
   "outputs": [],
   "source": [
    "print(image.astype(np.float))\n",
    "print(img_as_float(image))"
   ]
  },
  {
   "cell_type": "markdown",
   "metadata": {},
   "source": [
    "How to convert an image from `uint` to `float`? And from `float` to `ubyte`?"
   ]
  },
  {
   "cell_type": "markdown",
   "metadata": {
    "collapsed": true
   },
   "source": [
    "## Function `rescale` "
   ]
  },
  {
   "cell_type": "code",
   "execution_count": null,
   "metadata": {
    "collapsed": false
   },
   "outputs": [],
   "source": [
    "from skimage import data\n",
    "from skimage.transform import rescale\n",
    "\n",
    "image = data.coins()\n",
    "print(image.dtype, image.min(), image.max(), image.shape)\n",
    "\n",
    "rescaled = rescale(image, 0.5)\n",
    "print(rescaled.dtype, np.round(rescaled.min(),4), np.round(rescaled.max(),4), rescaled.shape)\n",
    "\n",
    "rescaled2 = rescale(image, 0.5, preserve_range=True)\n",
    "print(rescaled2.dtype, np.round(rescaled2.min(),4), np.round(rescaled2.max(),4), rescaled2.shape)\n",
    "\n",
    "\n",
    "plt.imshow(rescaled)\n",
    "plt.show()\n",
    "plt.imshow(rescaled2)\n",
    "plt.show()\n",
    "\n"
   ]
  },
  {
   "cell_type": "markdown",
   "metadata": {},
   "source": [
    "How to rescale intensity values?"
   ]
  },
  {
   "cell_type": "code",
   "execution_count": null,
   "metadata": {
    "collapsed": false
   },
   "outputs": [],
   "source": [
    "camera = data.camera()\n",
    "print(camera.max(), camera.min(), camera.shape)\n",
    "plt.imshow(camera, cmap='gray')\n",
    "plt.show()"
   ]
  },
  {
   "cell_type": "code",
   "execution_count": null,
   "metadata": {
    "collapsed": false
   },
   "outputs": [],
   "source": [
    "camera2 = camera/2\n",
    "print(camera2.max(), camera2.min(), camera2.shape)\n",
    "plt.imshow(camera2, cmap='gray', vmin=0, vmax=255)\n",
    "plt.show()"
   ]
  },
  {
   "cell_type": "code",
   "execution_count": null,
   "metadata": {
    "collapsed": false
   },
   "outputs": [],
   "source": [
    "camera3 = camera2+100\n",
    "print(camera3.max(), camera3.min(), camera3.shape)\n",
    "plt.imshow(camera3, cmap='gray', vmin=0, vmax=255)\n",
    "plt.show()"
   ]
  },
  {
   "cell_type": "code",
   "execution_count": null,
   "metadata": {
    "collapsed": false
   },
   "outputs": [],
   "source": [
    "from skimage.transform import resize\n",
    "from skimage import img_as_ubyte # img_as_ubyte Convert an image to 8-bit unsigned integer format\n",
    "\n",
    "camera4 = img_as_ubyte(resize(camera,(64,64))) \n",
    "print(camera4.max(), camera4.min(), camera4.shape)\n",
    "plt.imshow(camera4, cmap='gray', vmin=0, vmax=255)\n",
    "plt.show()"
   ]
  },
  {
   "cell_type": "markdown",
   "metadata": {},
   "source": [
    "More examples can be seen in the [Matplotlib Image tutorial](https://matplotlib.org/users/image_tutorial.html)."
   ]
  },
  {
   "cell_type": "markdown",
   "metadata": {},
   "source": [
    "## Color (RGB) images\n",
    "\n",
    "A color image is a NumPy array, with an additional trailing dimension for the channels. See [Scikit-image Color images](http://scikit-image.org/docs/dev/user_guide/numpy_images.html#color-images) for more information."
   ]
  },
  {
   "cell_type": "code",
   "execution_count": null,
   "metadata": {
    "collapsed": false
   },
   "outputs": [],
   "source": [
    "cat = data.chelsea()\n",
    "print(type(cat))\n",
    "print(cat.shape)\n",
    "plt.imshow(cat)\n",
    "plt.show()"
   ]
  },
  {
   "cell_type": "markdown",
   "metadata": {},
   "source": [
    "Remember the way `numpy` allows us to index certain positions in a matrix. If we have a matrix `M`, we can access to a certain pixel `(i,j)` using the command `M[i,j]`, where `i` is the row and `j` the column. In order to index all the positions, we have to use the character `:`."
   ]
  },
  {
   "cell_type": "code",
   "execution_count": null,
   "metadata": {
    "collapsed": false
   },
   "outputs": [],
   "source": [
    "cat[230:255, 220:285] = 0 # set the pixels at rows from 230 to 255, columns from 220 to 285 to black\n",
    "plt.imshow(cat)\n",
    "plt.show()\n",
    "\n",
    "cat[50, 61] = [0, 255, 0] # set the pixel at row 50, column 61 to green; remember [red, green, blue]\n",
    "plt.imshow(cat)\n",
    "plt.show()"
   ]
  },
  {
   "cell_type": "code",
   "execution_count": null,
   "metadata": {
    "collapsed": false
   },
   "outputs": [],
   "source": [
    "cat = data.chelsea()\n",
    "reddish = cat[:, :, 0] > 160\n",
    "cat[reddish] = [0, 255, 0]\n",
    "plt.imshow(cat)\n",
    "plt.show()"
   ]
  },
  {
   "cell_type": "markdown",
   "metadata": {},
   "source": [
    "Note that it is always much faster to iterate on the rightmost indices. See the following example:"
   ]
  },
  {
   "cell_type": "code",
   "execution_count": null,
   "metadata": {
    "collapsed": false
   },
   "outputs": [],
   "source": [
    "def in_order_multiply(arr, scalar):\n",
    "     for plane in range(arr.shape[0]):\n",
    "         arr[plane, :, :] *= scalar\n",
    "\n",
    "def out_of_order_multiply(arr, scalar):\n",
    "     for plane in range(arr.shape[2]):\n",
    "         arr[:, :, plane] *= scalar\n",
    "\n",
    "import time\n",
    "im3d = np.random.rand(100, 1024, 1024)\n",
    "t0 = time.time(); x = in_order_multiply(im3d, 5); t1 = time.time()\n",
    "\n",
    "print(\"%.2f seconds\" % (t1 - t0))  \n",
    "\n",
    "im3d_t = np.transpose(im3d).copy() # place \"planes\" dimension at end\n",
    "im3d_t.shape\n",
    "s0 = time.time(); x = out_of_order_multiply(im3d, 5); s1 = time.time()\n",
    "\n",
    "print(\"%.2f seconds\" % (s1 - s0))  \n",
    "print(\"Speedup: %.1fx\" % ((s1 - s0) / (t1 - t0)))  "
   ]
  },
  {
   "cell_type": "markdown",
   "metadata": {},
   "source": [
    "Addendum to dimension names and orders in Scikit-image:\n",
    "\n",
    "Image type: 2D color video       \n",
    "Coordinates: (t, row, col, ch)"
   ]
  },
  {
   "cell_type": "markdown",
   "metadata": {},
   "source": [
    "## Image adjustment: transforming image content\n",
    "\n",
    "\n",
    "### Color manipulation\n",
    "\n",
    "Most functions for manipulating color channels are found in the Module `color`. See [Scikit-image Color manipulation](http://scikit-image.org/docs/dev/user_guide/transforming_image_data.html) for more information."
   ]
  },
  {
   "cell_type": "code",
   "execution_count": null,
   "metadata": {
    "collapsed": false
   },
   "outputs": [],
   "source": [
    "from skimage import color\n",
    "\n",
    "# bright saturated red\n",
    "red_pixel_rgb = np.array([[[255, 0, 0]]], dtype=np.uint8)\n",
    "plt.imshow(red_pixel_rgb)\n",
    "plt.show()\n",
    "color.rgb2hsv(red_pixel_rgb)\n",
    "plt.imshow(color.rgb2hsv(red_pixel_rgb))\n",
    "plt.show()"
   ]
  },
  {
   "cell_type": "code",
   "execution_count": null,
   "metadata": {
    "collapsed": false
   },
   "outputs": [],
   "source": [
    "# darker saturated blue\n",
    "dark_blue_pixel_rgb = np.array([[[0, 0, 100]]], dtype=np.uint8)\n",
    "plt.imshow(dark_blue_pixel_rgb)\n",
    "plt.show()\n",
    "color.rgb2hsv(dark_blue_pixel_rgb)\n",
    "plt.imshow(color.rgb2hsv(dark_blue_pixel_rgb))\n",
    "plt.show()"
   ]
  },
  {
   "cell_type": "code",
   "execution_count": null,
   "metadata": {
    "collapsed": false
   },
   "outputs": [],
   "source": [
    "# less saturated pink\n",
    "pink_pixel_rgb = np.array([[[255, 100, 255]]], dtype=np.uint8)\n",
    "plt.imshow(pink_pixel_rgb)\n",
    "plt.show()\n",
    "color.rgb2hsv(pink_pixel_rgb)\n",
    "plt.imshow(color.rgb2hsv(pink_pixel_rgb))\n",
    "plt.show()"
   ]
  },
  {
   "cell_type": "markdown",
   "metadata": {},
   "source": [
    "### Conversion from RGBA to RGB - Removing alpha channel through alpha blending\n",
    "\n",
    "Converting an RGBA image to an RGB image by alpha blending it with a background is realized with `rgba2rgb()`"
   ]
  },
  {
   "cell_type": "code",
   "execution_count": null,
   "metadata": {
    "collapsed": false
   },
   "outputs": [],
   "source": [
    "from skimage.color import rgba2rgb\n",
    "# RGBA has 24 bits for RGB color, bit there is an additional 8 bit value for transparency.\n",
    "\n",
    "img_rgba = data.logo()\n",
    "img_rgb = rgba2rgb(img_rgba)\n",
    "plt.imshow(img_rgba)\n",
    "plt.show()\n",
    "plt.imshow(img_rgb)\n",
    "plt.show()"
   ]
  },
  {
   "cell_type": "markdown",
   "metadata": {},
   "source": [
    "### Conversion between color and gray values\n",
    "\n",
    "Converting an RGB image to a grayscale image is realized with `rgb2gray()`"
   ]
  },
  {
   "cell_type": "code",
   "execution_count": null,
   "metadata": {
    "collapsed": false
   },
   "outputs": [],
   "source": [
    "from skimage.color import rgb2gray\n",
    "\n",
    "img = data.astronaut()\n",
    "img_gray = rgb2gray(img)\n",
    "plt.imshow(img)\n",
    "plt.show()\n",
    "plt.imshow(img_gray, cmap='gray')\n",
    "plt.show()"
   ]
  },
  {
   "cell_type": "markdown",
   "metadata": {},
   "source": [
    "Note that:"
   ]
  },
  {
   "cell_type": "code",
   "execution_count": null,
   "metadata": {
    "collapsed": false
   },
   "outputs": [],
   "source": [
    "print (img_gray.dtype, img_gray.max())"
   ]
  },
  {
   "cell_type": "code",
   "execution_count": null,
   "metadata": {
    "collapsed": false
   },
   "outputs": [],
   "source": [
    "red_pixel = np.array([[[255, 0, 0]]], dtype=np.uint8)\n",
    "print(rgb2gray(red_pixel))\n",
    "\n",
    "green_pixel = np.array([[[0, 255, 0]]], dtype=np.uint8)\n",
    "print (rgb2gray(green_pixel))\n"
   ]
  },
  {
   "cell_type": "markdown",
   "metadata": {},
   "source": [
    "Given a gray image, how would it be looking if it is converted to RGB values? "
   ]
  },
  {
   "cell_type": "markdown",
   "metadata": {},
   "source": [
    "## Displaying  images and graphics"
   ]
  },
  {
   "cell_type": "markdown",
   "metadata": {},
   "source": [
    "[Matplotlib](https://matplotlib.org/index.html) is a Python 2D plotting library which produces publication quality figures in a variety of hardcopy formats and interactive environments across platforms. "
   ]
  },
  {
   "cell_type": "code",
   "execution_count": null,
   "metadata": {
    "collapsed": false
   },
   "outputs": [],
   "source": [
    "\"\"\"\n",
    "Simple demo of the imshow function.\n",
    "\"\"\"\n",
    "import matplotlib.pyplot as plt\n",
    "import matplotlib.cbook as cbook\n",
    "\n",
    "image_file = cbook.get_sample_data('ada.png')\n",
    "image = plt.imread(image_file)\n",
    "\n",
    "fig, ax = plt.subplots()\n",
    "ax.imshow(image)\n",
    "ax.axis('off')  # clear x- and y-axes\n",
    "plt.show()"
   ]
  },
  {
   "cell_type": "code",
   "execution_count": null,
   "metadata": {
    "collapsed": false
   },
   "outputs": [],
   "source": [
    "\"\"\"\n",
    "Demo of image that's been clipped by a circular patch.\n",
    "\"\"\"\n",
    "import matplotlib.pyplot as plt\n",
    "import matplotlib.patches as patches\n",
    "import matplotlib.cbook as cbook\n",
    "\n",
    "image_file = cbook.get_sample_data('grace_hopper.png')\n",
    "image = plt.imread(image_file)\n",
    "\n",
    "# Demo image\n",
    "fig, ax = plt.subplots()\n",
    "ax.imshow(image)\n",
    "ax.axis('off')  # clear x- and y-axes\n",
    "\n",
    "\n",
    "# Adding the circular path\n",
    "fig, ax = plt.subplots()\n",
    "im = ax.imshow(image)\n",
    "patch = patches.Circle((260, 200), radius=200, transform=ax.transData)\n",
    "im.set_clip_path(patch)\n",
    "ax.axis('off')\n",
    "\n",
    "plt.show()\n",
    "\n"
   ]
  },
  {
   "cell_type": "markdown",
   "metadata": {},
   "source": [
    "See how to visualize multiple images:"
   ]
  },
  {
   "cell_type": "code",
   "execution_count": null,
   "metadata": {
    "collapsed": false
   },
   "outputs": [],
   "source": [
    "'''\n",
    "Demo of the streamplot function.\n",
    "\n",
    "A streamplot, or streamline plot, is used to display 2D vector fields. This\n",
    "example shows a few features of the stream plot function:\n",
    "\n",
    "    * Varying the color along a streamline.\n",
    "    * Varying the density of streamlines.\n",
    "    * Varying the line width along a stream line.\n",
    "'''\n",
    "\n",
    "import numpy as np\n",
    "import matplotlib.pyplot as plt\n",
    "\n",
    "Y, X = np.mgrid[-3:3:100j, -3:3:100j]\n",
    "U = -1 - X**2 + Y\n",
    "V = 1 + X - Y**2\n",
    "speed = np.sqrt(U*U + V*V)\n",
    "\n",
    "fig0, ax0 = plt.subplots()\n",
    "strm = ax0.streamplot(X, Y, U, V, color=U, linewidth=2, cmap=plt.cm.autumn)\n",
    "fig0.colorbar(strm.lines)\n",
    "\n",
    "fig1, (ax1, ax2) = plt.subplots(ncols=2)\n",
    "ax1.streamplot(X, Y, U, V, density=[0.5, 1])\n",
    "\n",
    "lw = 5*speed / speed.max()\n",
    "ax2.streamplot(X, Y, U, V, density=0.6, color='k', linewidth=lw)\n",
    "\n",
    "plt.show()"
   ]
  },
  {
   "cell_type": "markdown",
   "metadata": {},
   "source": [
    "Another [example](https://matplotlib.org/examples/pylab_examples/image_nonuniform.html) of how to display multiple images:"
   ]
  },
  {
   "cell_type": "code",
   "execution_count": null,
   "metadata": {
    "collapsed": false
   },
   "outputs": [],
   "source": [
    "'''\n",
    "This illustrates the NonUniformImage class.  It is not\n",
    "available via an Axes method but it is easily added to an\n",
    "Axes instance as shown here.\n",
    "'''\n",
    "\n",
    "import numpy as np\n",
    "import matplotlib.pyplot as plt\n",
    "from matplotlib.image import NonUniformImage\n",
    "from matplotlib import cm\n",
    "\n",
    "interp = 'nearest'\n",
    "\n",
    "# Linear x array for cell centers:\n",
    "x = np.linspace(-4, 4, 9)\n",
    "\n",
    "# Highly nonlinear x array:\n",
    "x2 = x**3\n",
    "\n",
    "y = np.linspace(-4, 4, 9)\n",
    "\n",
    "z = np.sqrt(x[np.newaxis, :]**2 + y[:, np.newaxis]**2)\n",
    "\n",
    "fig, axs = plt.subplots(nrows=2, ncols=2)\n",
    "fig.subplots_adjust(bottom=0.07, hspace=0.3)\n",
    "fig.suptitle('NonUniformImage class', fontsize='large')\n",
    "\n",
    "# Image a)\n",
    "ax = axs[0, 0]\n",
    "im = NonUniformImage(ax, interpolation=interp, extent=(-4, 4, -4, 4),\n",
    "                     cmap=cm.Purples)\n",
    "im.set_data(x, y, z)\n",
    "ax.images.append(im)\n",
    "ax.set_xlim(-4, 4)\n",
    "ax.set_ylim(-4, 4)\n",
    "ax.set_title('a) ' + interp + ' 1')\n",
    "\n",
    "# Image b)\n",
    "ax = axs[0, 1]\n",
    "im = NonUniformImage(ax, interpolation=interp, extent=(-64, 64, -4, 4),\n",
    "                     cmap=cm.Purples)\n",
    "im.set_data(x2, y, z)\n",
    "ax.images.append(im)\n",
    "ax.set_xlim(-64, 64)\n",
    "ax.set_ylim(-4, 4)\n",
    "ax.set_title('b) ' + interp + ' 2')\n",
    "\n",
    "interp = 'bilinear'\n",
    "\n",
    "# Image c)\n",
    "ax = axs[1, 0]\n",
    "im = NonUniformImage(ax, interpolation=interp, extent=(-4, 4, -4, 4),\n",
    "                     cmap=cm.Purples)\n",
    "im.set_data(x, y, z)\n",
    "ax.images.append(im)\n",
    "ax.set_xlim(-4, 4)\n",
    "ax.set_ylim(-4, 4)\n",
    "ax.set_title('c) ' + interp + ' 1')\n",
    "\n",
    "# Image d)\n",
    "ax = axs[1, 1]\n",
    "im = NonUniformImage(ax,  interpolation=interp, extent=(-64, 64, -4, 4),\n",
    "                     cmap=cm.Purples)\n",
    "im.set_data(x2, y, z)\n",
    "ax.images.append(im)\n",
    "ax.set_xlim(-64, 64)\n",
    "ax.set_ylim(-4, 4)\n",
    "ax.set_title('d) ' + interp + ' 2')\n",
    "\n",
    "plt.show()\n"
   ]
  },
  {
   "cell_type": "markdown",
   "metadata": {},
   "source": [
    "Visualize in a figure four images, in 2 rows and 2 columns: a) the cat, b) the cat with the black mask, c) the cat converted into gray levels and the cat with double reduced size. Add titles to explain what each image represents to. "
   ]
  },
  {
   "cell_type": "code",
   "execution_count": null,
   "metadata": {
    "collapsed": false
   },
   "outputs": [],
   "source": [
    "\"\"\"Solution\"\"\""
   ]
  }
 ],
 "metadata": {
  "celltoolbar": "Raw Cell Format",
  "kernelspec": {
   "display_name": "Python 2",
   "language": "python",
   "name": "python2"
  },
  "language_info": {
   "codemirror_mode": {
    "name": "ipython",
    "version": 2
   },
   "file_extension": ".py",
   "mimetype": "text/x-python",
   "name": "python",
   "nbconvert_exporter": "python",
   "pygments_lexer": "ipython2",
   "version": "2.7.13"
  }
 },
 "nbformat": 4,
 "nbformat_minor": 1
}
