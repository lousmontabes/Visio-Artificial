{
 "cells": [
  {
   "cell_type": "markdown",
   "metadata": {},
   "source": [
    "# Computer Vision - Laboratory"
   ]
  },
  {
   "cell_type": "markdown",
   "metadata": {},
   "source": [
    "## Practicum 1: Basics on Image Processing and Manipulation\n",
    "\n",
    "The main topics are:\n",
    "1. Image loading, saving and creation\n",
    "2. Color manipulation \n",
    "\n",
    "In order to complete this practicum, we will work with the following concepts: image creation, data types, image manipulation."
   ]
  },
  {
   "cell_type": "markdown",
   "metadata": {},
   "source": [
    "### Packages loading \n",
    "\n",
    "First we need to import the required Python packages for basic image manipulation. \n",
    "\n",
    "Run the following code:"
   ]
  },
  {
   "cell_type": "code",
   "execution_count": null,
   "metadata": {
    "collapsed": true
   },
   "outputs": [],
   "source": [
    "import numpy as np # useful for manipulating matrices\n",
    "from skimage import io # useful for image loading and saving\n",
    "from matplotlib import pyplot as plt # useful for plotting images on iPython or Jupyter Notebooks"
   ]
  },
  {
   "cell_type": "markdown",
   "metadata": {},
   "source": [
    "Note that commands starting with the percentage sign (`%`) are special internal commands to ipython (as opposed to Python code to be run). In the case below, we set the matplotlib environment to display images results inline (i.e. the images will be shown **inside the \n",
    "notebook**):"
   ]
  },
  {
   "cell_type": "code",
   "execution_count": null,
   "metadata": {
    "collapsed": true
   },
   "outputs": [],
   "source": [
    "%matplotlib inline"
   ]
  },
  {
   "cell_type": "markdown",
   "metadata": {},
   "source": [
    "### 1.1 Image creation"
   ]
  },
  {
   "cell_type": "markdown",
   "metadata": {},
   "source": [
    "Remember that [Numpy](https://docs.scipy.org/doc/numpy-1.13.0/reference/) allows us to define images of different kinds treating them as matrices.\n",
    "\n",
    "The most common examples are:\n",
    "\n",
    "* Binary: with values of 0 or 1, interpreted as black or white, respectively.\n",
    "* Grayscale: with possible data types uint8, uint16, double, whose pixel values define their intensity.\n",
    "* RGB Image: color images consisting of 3 matrices (usually called 'channels'), which contain intensity values for each color separately R (red), G (green) and B (blue).\n"
   ]
  },
  {
   "cell_type": "markdown",
   "metadata": {},
   "source": [
    "a) Create and display a grayscale image that has 150 rows and 200 columns where each value should be of type unsigned integer with 8 bits. "
   ]
  },
  {
   "cell_type": "code",
   "execution_count": null,
   "metadata": {
    "collapsed": false
   },
   "outputs": [],
   "source": [
    "\"\"\"Solution\"\"\"\n",
    "im = np.zeros((150,200), dtype='uint8')\n",
    "print im.shape\n",
    "plt.imshow(im, cmap='gray')\n",
    "plt.show()"
   ]
  },
  {
   "cell_type": "markdown",
   "metadata": {},
   "source": [
    "How many values can have each pixel in this case? "
   ]
  },
  {
   "cell_type": "markdown",
   "metadata": {},
   "source": [
    "\"\"\"Solution\"\"\"\n",
    "\n",
    "This allows us to represent 2^8 = 256 values in each pixel."
   ]
  },
  {
   "cell_type": "markdown",
   "metadata": {},
   "source": [
    "b) Change the color of the pixels of the image in such a way that the left half is black (0) and the right half is white (255). Visualize the image and print the values of its first row."
   ]
  },
  {
   "cell_type": "code",
   "execution_count": null,
   "metadata": {
    "collapsed": false
   },
   "outputs": [],
   "source": [
    "\"\"\"Solution\"\"\"\n",
    "im[:, 100:] = 255\n",
    "\n",
    "plt.imshow(im, cmap='gray')\n",
    "plt.show()\n",
    "\n",
    "print im[0]"
   ]
  },
  {
   "cell_type": "markdown",
   "metadata": {},
   "source": [
    "### 1.2 Image saving and loading\n",
    "\n",
    "a) Use the IO image package to save the image previously created:"
   ]
  },
  {
   "cell_type": "code",
   "execution_count": null,
   "metadata": {
    "collapsed": true
   },
   "outputs": [],
   "source": [
    "\"\"\"Solution\"\"\"\n",
    "io.imsave('black_and_white.jpg', im)"
   ]
  },
  {
   "cell_type": "markdown",
   "metadata": {},
   "source": [
    "b) Load the saved image and visualize it:"
   ]
  },
  {
   "cell_type": "code",
   "execution_count": null,
   "metadata": {
    "collapsed": false
   },
   "outputs": [],
   "source": [
    "\"\"\"Solution\"\"\"\n",
    "im2 = io.imread('black_and_white.jpg')\n",
    "plt.imshow(im2, cmap='gray')\n",
    "plt.show()"
   ]
  },
  {
   "cell_type": "markdown",
   "metadata": {},
   "source": [
    "### 1.3 Color image manipulation\n",
    "\n",
    "a) Load and show the image `lenna.jpg`, and check its dimensions.\n",
    "\n",
    "**Note:** Pictures may appear in the figure with pseudocolors. Use (imread,im,cmap='rgb') to display them in RGB color and (imread,im,cmap='gray') to display them in grayscale. For more information, check the color maps available in the documentation."
   ]
  },
  {
   "cell_type": "code",
   "execution_count": null,
   "metadata": {
    "collapsed": false
   },
   "outputs": [],
   "source": [
    "\"\"\"Solution\"\"\"\n",
    "im = io.imread('images/lenna.jpg')\n",
    "plt.imshow(im)\n",
    "print(im.shape)"
   ]
  },
  {
   "cell_type": "markdown",
   "metadata": {
    "collapsed": true
   },
   "source": [
    "b) Convert the previous image to grayscale, and visualize and save it. Note that there are 2 different solutions for the conversion."
   ]
  },
  {
   "cell_type": "code",
   "execution_count": null,
   "metadata": {
    "collapsed": false
   },
   "outputs": [],
   "source": [
    "\"\"\"Solution\"\"\"\n",
    "im_gray = im.mean(axis=2)\n",
    "plt.imshow(im_gray, cmap='gray') # we must use the parameter cmap='gray' when plotting grayscale images\n",
    "plt.show()"
   ]
  },
  {
   "cell_type": "code",
   "execution_count": null,
   "metadata": {
    "collapsed": false
   },
   "outputs": [],
   "source": [
    "\"\"\"Solution\"\"\"\n",
    "from skimage import color\n",
    "from skimage import img_as_uint\n",
    "\n",
    "im_gray = color.rgb2gray(im) # convert to grayscale representation\n",
    "print(im_gray.shape)\n",
    "print(im_gray.dtype)\n",
    "print(im_gray.max())\n",
    "io.imsave('lenna_black_and_white.jpg', im_gray.astype('uint8'))"
   ]
  },
  {
   "cell_type": "markdown",
   "metadata": {},
   "source": [
    "c) Create a boolean image, and apply a binarization to the grayscale image by setting to 0 all values equal or below 100 and to 1 otherwise. Check the range of the values of the image, and print the 10th row of the image."
   ]
  },
  {
   "cell_type": "code",
   "execution_count": null,
   "metadata": {
    "collapsed": false
   },
   "outputs": [],
   "source": [
    "\"\"\"Solution\"\"\"\n",
    "thresholded_im_bool = (im_gray > 100/255.0)\n",
    "thresholded_im = np.zeros((im.shape[0], im.shape[1]), dtype='uint8')\n",
    "\n",
    "thresholded_im[thresholded_im_bool]=1\n",
    "\n",
    "plt.imshow(thresholded_im, cmap='gray', )\n",
    "plt.show()"
   ]
  },
  {
   "cell_type": "code",
   "execution_count": null,
   "metadata": {
    "collapsed": false
   },
   "outputs": [],
   "source": [
    "\"\"\"Solution\"\"\"\n",
    "print(np.min(im))\n",
    "print(np.max(im))\n",
    "\n",
    "print(im_gray[10,:])"
   ]
  },
  {
   "cell_type": "markdown",
   "metadata": {},
   "source": [
    "d) Visualize in the same figure three images: (1) the original image, (2) the graylevel image, and (3) the binarized image. Set the corresponding titles of the images."
   ]
  },
  {
   "cell_type": "code",
   "execution_count": null,
   "metadata": {
    "collapsed": false
   },
   "outputs": [],
   "source": [
    "\"\"\"Solution\"\"\"\n",
    "im_gray = color.rgb2gray(im) # convert to grayscale representation\n",
    "\n",
    "fig, (ax1,ax2,ax3) = plt.subplots(ncols=3,figsize=(12,30))\n",
    "\n",
    "ax1.imshow(im, )\n",
    "ax1.set_title('Original image')\n",
    "ax2.imshow(im_gray, cmap='gray')\n",
    "ax2.set_title('Graylevel image')\n",
    "ax3.imshow(thresholded_im, cmap='gray')\n",
    "ax3.set_title('Thresholded image')\n",
    "fig.show()"
   ]
  },
  {
   "cell_type": "markdown",
   "metadata": {},
   "source": [
    "### 1.4 Images manipulation\n",
    "\n",
    "a) Create a black mask with width 1/10th of the height of the original image `lenna.jpg` and display it. To do it, create a bigger black image and embed the original one."
   ]
  },
  {
   "cell_type": "code",
   "execution_count": null,
   "metadata": {
    "collapsed": false
   },
   "outputs": [],
   "source": [
    "\"\"\"Solution\"\"\"\n",
    "im = io.imread('images/lenna.jpg')\n",
    "#plt.imshow(im, cmap='gray')\n",
    "\n",
    "mask=im.shape[0]/10\n",
    "print(mask)\n",
    "print(im.shape)\n",
    "\n",
    "big_im = np.zeros((im.shape[0]+2*mask, im.shape[1]+2*mask, 3), dtype='uint8')\n",
    "big_im[mask+1:im.shape[0]+mask+1, mask+1:im.shape[1]+mask+1] = im\n",
    "\n",
    "plt.imshow(big_im)\n",
    "plt.show()"
   ]
  },
  {
   "cell_type": "markdown",
   "metadata": {
    "collapsed": true
   },
   "source": [
    "b) Change the mask of the framed image to red. Visualize the three images with their respective titles."
   ]
  },
  {
   "cell_type": "code",
   "execution_count": null,
   "metadata": {
    "collapsed": false
   },
   "outputs": [],
   "source": [
    "\"\"\"Solution\"\"\"\n",
    "big_red_im = big_im.copy()\n",
    "big_red_im[:,1:mask+1] = (255,0,0)\n",
    "big_red_im[:,im.shape[1]+mask+1:im.shape[1]+2*mask+1] = (255,0,0)\n",
    "\n",
    "big_red_im[1:mask+1,:] = (255,0,0)\n",
    "big_red_im[im.shape[0]+mask+1:im.shape[0]+2*mask+1,:] = (255,0,0)\n",
    "\n",
    "plt.imshow(big_red_im)\n",
    "plt.show()"
   ]
  },
  {
   "cell_type": "code",
   "execution_count": null,
   "metadata": {
    "collapsed": false
   },
   "outputs": [],
   "source": [
    "\"\"\"Solution\"\"\"\n",
    "fig, (ax1,ax2,ax3) = plt.subplots(ncols=3,figsize=(12,30))\n",
    "print (im.shape)\n",
    "\n",
    "ax1.imshow(im)\n",
    "ax1.set_title('Original image')\n",
    "ax2.imshow(big_im, cmap='gray')\n",
    "ax2.set_title('Black mask')\n",
    "ax3.imshow(big_red_im, cmap='gray')\n",
    "ax3.set_title('Red mask')\n",
    "fig.show()"
   ]
  },
  {
   "cell_type": "markdown",
   "metadata": {},
   "source": [
    "### 1.5 Contrast enhancement\n",
    "\n",
    "a) Open the image `car_lowContrast.jpg` and visualize it without graylevel enhancement. To this purpose, check which are the minimal and maximal values and how to use the command imshow without contrast enhancement."
   ]
  },
  {
   "cell_type": "code",
   "execution_count": null,
   "metadata": {
    "collapsed": false
   },
   "outputs": [],
   "source": [
    "\"\"\"Solution\"\"\"\n",
    "im = io.imread(\"images/car_lowContrast.jpg\")\n",
    "\n",
    "print(im.max(), im.min())\n",
    "\n",
    "plt.imshow(im, cmap='gray', vmin=0, vmax=255)\n",
    "plt.show()"
   ]
  },
  {
   "cell_type": "markdown",
   "metadata": {
    "collapsed": true
   },
   "source": [
    "b) Create an image called `dark_image` using the  values from the original one, so that the minimal value of the new image is 0. Check the minimal and maximal values of the new image, and compare them with the previous one."
   ]
  },
  {
   "cell_type": "code",
   "execution_count": null,
   "metadata": {
    "collapsed": false
   },
   "outputs": [],
   "source": [
    "\"\"\"Solution\"\"\"\n",
    "dark_im = im.copy()-im.min()\n",
    "print(dark_im.min(), dark_im.max())\n",
    "print(im.min(), im.max())"
   ]
  },
  {
   "cell_type": "markdown",
   "metadata": {},
   "source": [
    "c) Create a new image called `bright_im` from the original one, so that the maximal value of the new image is 255. Check the minimal and maximal values of the new image, and compare them with the previous one."
   ]
  },
  {
   "cell_type": "code",
   "execution_count": null,
   "metadata": {
    "collapsed": false
   },
   "outputs": [],
   "source": [
    "\"\"\"Solution\"\"\"\n",
    "bright_im = im.copy()+255-im.max()\n",
    "print(bright_im.min(), bright_im.max())\n",
    "print(im.min(), im.max())"
   ]
  },
  {
   "cell_type": "markdown",
   "metadata": {},
   "source": [
    "d) Apply contrast enhancement to the original image. There are two ways for it: (1) by direct manipulation, and (2) through scikit-image command. Check the minimal and maximal values of the enhanced image, and compare them with the previous one."
   ]
  },
  {
   "cell_type": "code",
   "execution_count": null,
   "metadata": {
    "collapsed": false
   },
   "outputs": [],
   "source": [
    "\"\"\"Solution\"\"\"\n",
    "from skimage import img_as_float, img_as_uint, img_as_ubyte\n",
    "\n",
    "im_aux = img_as_float(im)\n",
    "print(im.min(), im.max())\n",
    "print(im_aux.min(), im_aux.max())\n",
    "\n",
    "contrasted_im1 = (img_as_float(im)-im.min()/255.0)/(im.max()/255.0-im.min()/255.0)\n",
    "contrasted_im2=img_as_ubyte(contrasted_im1)\n",
    "print(contrasted_im1.min(), contrasted_im1.max())\n",
    "print(contrasted_im2.min(), contrasted_im2.max())"
   ]
  },
  {
   "cell_type": "code",
   "execution_count": null,
   "metadata": {
    "collapsed": false
   },
   "outputs": [],
   "source": [
    "\"\"\"Solution\"\"\"\n",
    "from skimage import exposure\n",
    "\n",
    "contrasted_im3 = exposure.rescale_intensity(im)\n",
    "print(contrasted_im3.min(), contrasted_im3.max())\n",
    "print(contrasted_im3.dtype)"
   ]
  },
  {
   "cell_type": "markdown",
   "metadata": {},
   "source": [
    "e) Visualize the 5 images in the same figure, each one with its corresponding title."
   ]
  },
  {
   "cell_type": "code",
   "execution_count": null,
   "metadata": {
    "collapsed": false
   },
   "outputs": [],
   "source": [
    "\"\"\"Solution\"\"\"\n",
    "fig, (ax1,ax2,ax3, ax4, ax5) = plt.subplots(ncols=5,figsize=(12,30))\n",
    "print (im.shape)\n",
    "\n",
    "ax1.imshow(im,  cmap='gray')\n",
    "ax1.set_title('Original image')\n",
    "ax2.imshow(dark_im, cmap='gray', vmin=0,vmax=255)\n",
    "ax2.set_title('Dark image')\n",
    "ax3.imshow(bright_im, cmap='gray', vmin=0,vmax=255)\n",
    "ax3.set_title('Bright image')\n",
    "ax4.imshow(contrasted_im2, cmap='gray', vmin=0,vmax=255)\n",
    "ax4.set_title('Enhanced image')\n",
    "ax5.imshow(contrasted_im3, cmap='gray', vmin=0,vmax=255)\n",
    "ax5.set_title('Enhanced image')\n",
    "fig.show()"
   ]
  },
  {
   "cell_type": "markdown",
   "metadata": {},
   "source": [
    "### 1.6 Masks and logical image manipulation\n",
    "\n",
    "Read the image `circles.bmp` (see figure top) and define 3 images in such a way that each one contains only 1 ball (see figure bottom). Visualize the 3 images in the same figure, each one with its corresponding title.\n",
    "\n",
    "<img src=\"images_notebook/ex16.png\">\n",
    "\n",
    "**Note:** Be careful when applying `imshow` since it automatically increases the contrast of the image (putting minimum values to 0 and maximal to 1).\n",
    "\n",
    "**Note:** Be careful when applying type conversion. Check the ranges of the image values."
   ]
  },
  {
   "cell_type": "code",
   "execution_count": null,
   "metadata": {
    "collapsed": false
   },
   "outputs": [],
   "source": [
    "\"\"\"Solution\"\"\"\n",
    "from skimage import color\n",
    "\n",
    "im = io.imread('images/circles.bmp')\n",
    "im = color.rgb2gray(im)\n",
    "print(im.dtype)\n",
    "\n",
    "plt.imshow(im, cmap='gray')\n",
    "plt.show()"
   ]
  },
  {
   "cell_type": "code",
   "execution_count": null,
   "metadata": {
    "collapsed": false
   },
   "outputs": [],
   "source": [
    "\"\"\"Solution\"\"\"\n",
    "from skimage import img_as_uint\n",
    "\n",
    "im_middle_bool = im.copy()\n",
    "im_middle_bool = (im==127/255.0)\n",
    "\n",
    "im_middle = np.multiply(im,im_middle_bool)\n",
    "im_middle[(im_middle==0)] = 1\n",
    "\n",
    "plt.imshow(im_middle, cmap='gray', vmin=0, vmax=1)\n",
    "plt.show()"
   ]
  },
  {
   "cell_type": "code",
   "execution_count": null,
   "metadata": {
    "collapsed": false
   },
   "outputs": [],
   "source": [
    "\"\"\"Solution\"\"\"\n",
    "im_left = im.copy()\n",
    "im_left = (im<0.0001)\n",
    "\n",
    "im_left = 1-im_left\n",
    "\n",
    "plt.imshow(im_left, cmap='gray', vmin=0, vmax=1)\n",
    "plt.show()"
   ]
  },
  {
   "cell_type": "code",
   "execution_count": null,
   "metadata": {
    "collapsed": false
   },
   "outputs": [],
   "source": [
    "\"\"\"Solution\"\"\"\n",
    "im_right = im.copy()\n",
    "im_right = (im==195/255.0)\n",
    "\n",
    "im_right = np.multiply(im, im_right)\n",
    "im_right[(im_right==0)] = 1\n",
    "\n",
    "plt.imshow(im_right, cmap='gray', vmin=0, vmax=1)\n",
    "plt.show()"
   ]
  },
  {
   "cell_type": "code",
   "execution_count": null,
   "metadata": {
    "collapsed": false
   },
   "outputs": [],
   "source": [
    "\"\"\"Solution\"\"\"\n",
    "plt.imshow(im, cmap='gray')\n",
    "plt.title('Original image')\n",
    "plt.show()\n",
    "\n",
    "fig, (ax1,ax2,ax3)=plt.subplots(ncols=3, figsize=(10,20))\n",
    "\n",
    "ax1.imshow(im_left, cmap='gray', vmin=0, vmax=1)\n",
    "ax1.set_title('Left circle')\n",
    "\n",
    "ax2.imshow(im_middle, cmap='gray', vmin=0, vmax=1)\n",
    "ax2.set_title('Central circle')\n",
    "\n",
    "ax3.imshow(im_right, cmap='gray', vmin=0, vmax=1)\n",
    "ax3.set_title('Right circle')\n",
    "fig.show()"
   ]
  },
  {
   "cell_type": "markdown",
   "metadata": {},
   "source": [
    "### 1.7 Color manipulation\n",
    "\n",
    "a) Create and visualize the three images shown in the following figure:\n",
    "<img src=\"./images_notebook/ex17a.png\">"
   ]
  },
  {
   "cell_type": "code",
   "execution_count": null,
   "metadata": {
    "collapsed": false
   },
   "outputs": [],
   "source": [
    "\"\"\"Solution\"\"\"\n",
    "im_r = np.zeros((256,256))\n",
    "im_g = np.zeros((256,256))\n",
    "im_b = np.zeros((256,256))\n",
    "\n",
    "im_r[:,128:]=1\n",
    "im_g[128:,:]=1\n",
    "im_b[:128,:128]=1\n",
    "\n",
    "fig,(ax1,ax2,ax3)=plt.subplots(ncols=3)\n",
    "\n",
    "ax1.imshow(im_r, cmap='gray')\n",
    "ax2.imshow(im_g, cmap='gray')\n",
    "ax3.imshow(im_b, cmap='gray')\n",
    "fig.show()"
   ]
  },
  {
   "cell_type": "markdown",
   "metadata": {},
   "source": [
    "b) Using these three images, construct the following color image:\n",
    "<img src='./images_notebook/ex17b.png'>"
   ]
  },
  {
   "cell_type": "code",
   "execution_count": null,
   "metadata": {
    "collapsed": false
   },
   "outputs": [],
   "source": [
    "\"\"\"Solution\"\"\"\n",
    "im_color=np.zeros((256,256,3))\n",
    "\n",
    "im_color[:,:,0]=im_r\n",
    "im_color[:,:,1]=im_g\n",
    "im_color[:,:,2]=im_b\n",
    "\n",
    "plt.imshow(im_color)\n",
    "plt.show()"
   ]
  },
  {
   "cell_type": "markdown",
   "metadata": {},
   "source": [
    "c) Read and visualize the image `sillas.jpg` (see figure top). Extract its three channels and visualize them in the same figure with their respective titles (see the figure bottom).\n",
    "<img src=\"images_notebook/ex17c.png\">\n",
    "\n",
    "<img src=\"images_notebook/ex17c2.png\">"
   ]
  },
  {
   "cell_type": "code",
   "execution_count": null,
   "metadata": {
    "collapsed": false
   },
   "outputs": [],
   "source": [
    "\"\"\"Solution\"\"\"\n",
    "im=io.imread('images/sillas.jpg')\n",
    "\n",
    "plt.imshow(im)\n",
    "plt.title('Original image')\n",
    "plt.show()"
   ]
  },
  {
   "cell_type": "code",
   "execution_count": null,
   "metadata": {
    "collapsed": false
   },
   "outputs": [],
   "source": [
    "\"\"\"Solution\"\"\"\n",
    "fig, (ax1,ax2,ax3)=plt.subplots(ncols=3, figsize=(15,30))\n",
    "ax1.imshow(im[:,:,0], cmap='gray')\n",
    "ax1.set_title('Red channel')\n",
    "ax2.imshow(im[:,:,1], cmap='gray')\n",
    "ax2.set_title('Green channel')\n",
    "ax3.imshow(im[:,:,2], cmap='gray')\n",
    "ax3.set_title('Blue channel')\n",
    "fig.show()"
   ]
  },
  {
   "cell_type": "markdown",
   "metadata": {},
   "source": [
    "d) Construct and visualize a new image in which the red color of the chairs is changed to blue (see figure).\n",
    "<img src=\"images_notebook/ex17c3.png\">"
   ]
  },
  {
   "cell_type": "code",
   "execution_count": null,
   "metadata": {
    "collapsed": false
   },
   "outputs": [],
   "source": [
    "\"\"\"Solution\"\"\"\n",
    "blue_chairs=np.zeros((im.shape), dtype='ubyte')\n",
    "blue_chairs[:,:,2]=im[:,:,0]\n",
    "blue_chairs[:,:,0]=im[:,:,2]\n",
    "blue_chairs[:,:,1]=im[:,:,1]\n",
    "\n",
    "plt.imshow(blue_chairs, cmap='rainbow')\n",
    "plt.title('Blue chairs')\n",
    "plt.show()"
   ]
  },
  {
   "cell_type": "markdown",
   "metadata": {},
   "source": [
    "e) Given the images `coat.png` and `model.png` (first two images on the figure below), implement the necessary code to construct the image of the model with the coat (third image). Next find in internet an image with a texture and apply it to obtain an image of the jacket with the found texture (fourth image is only an example).\n",
    "\n",
    "<img src=\"images_notebook/ex17d.png\">\n",
    "\n",
    "**Note:** when applying resize, rotate, etc. keep track how the image type and values range change. When necessary, apply type conversion using img_as_float, img_as_uint, img_as_ubyte."
   ]
  },
  {
   "cell_type": "code",
   "execution_count": null,
   "metadata": {
    "collapsed": false
   },
   "outputs": [],
   "source": [
    "\"\"\"Solution\"\"\"\n",
    "from skimage import color\n",
    "\n",
    "im_coat=io.imread('images/coat.png')\n",
    "im_model=io.imread('images/model.png')\n",
    "\n",
    "fig, (ax1,ax2)=plt.subplots(ncols=2, figsize=(15,20))\n",
    "ax1.imshow(im_coat, cmap='gray')\n",
    "ax1.set_title('Coat')\n",
    "ax2.imshow(im_model, cmap='rainbow')\n",
    "ax2.set_title('Model')\n",
    "plt.show()\n",
    "\n",
    "print im_coat.min(), im_coat.max(), im_coat.dtype, im_coat.shape\n",
    "print im_model.min(), im_model.max(), im_model.dtype, im_model.shape\n",
    "\n",
    "im_coat2=color.rgba2rgb(im_coat)\n",
    "im_model2=color.rgba2rgb(im_model)\n",
    "\n",
    "print im_coat2.min(), im_coat2.max(), im_coat2.dtype, im_coat2.shape\n",
    "print im_model2.min(), im_model2.max(), im_model2.dtype, im_model2.shape"
   ]
  },
  {
   "cell_type": "code",
   "execution_count": null,
   "metadata": {
    "collapsed": false
   },
   "outputs": [],
   "source": [
    "\"\"\"Solution\"\"\"\n",
    "coat_bool = color.rgb2gray(im_coat2)\n",
    "coat_bool = (coat_bool>0.5)\n",
    "\n",
    "new_model = im_model2.copy()\n",
    "new_model[(coat_bool)] = im_coat2[(coat_bool)]\n",
    "\n",
    "fig, (ax1,ax2,ax3)=plt.subplots(ncols=3, figsize=(15,20))\n",
    "ax1.imshow(coat_bool, cmap='gray')\n",
    "ax1.set_title('Binarized coat')\n",
    "ax2.imshow(im_model2, cmap='rainbow')\n",
    "ax2.set_title('Model')\n",
    "ax3.imshow(new_model, cmap='gray')\n",
    "ax3.set_title('Model with coat')\n",
    "fig.show()"
   ]
  },
  {
   "cell_type": "code",
   "execution_count": null,
   "metadata": {
    "collapsed": false
   },
   "outputs": [],
   "source": [
    "\"\"\"Solution\"\"\"\n",
    "from skimage import transform\n",
    "\n",
    "im_texture = io.imread('images/texture.png')\n",
    "print im_texture.min(), im_texture.max(), im_texture.dtype, im_texture.shape\n",
    "\n",
    "im_texture1 = transform.rotate(im_texture, 90, resize=True)\n",
    "print im_texture1.min(), im_texture1.max(), im_texture1.dtype, im_texture1.shape\n",
    "\n",
    "im_texture2 = transform.resize(im_texture1, (im_model2.shape))\n",
    "print im_texture2.min(), im_texture2.max(), im_texture2.dtype, im_texture2.shape\n",
    "\n",
    "fig, (ax1,ax2)=plt.subplots(ncols=2, figsize=(15,20))\n",
    "ax1.imshow(im_texture, cmap='gray')\n",
    "ax1.set_title('Original texture')\n",
    "ax2.imshow(im_texture2, cmap='gray')\n",
    "ax2.set_title('Transformed texture')\n",
    "fig.show()"
   ]
  },
  {
   "cell_type": "code",
   "execution_count": null,
   "metadata": {
    "collapsed": false
   },
   "outputs": [],
   "source": [
    "\"\"\"Solution\"\"\"\n",
    "new_model2 = im_model2.copy()\n",
    "new_model2[(coat_bool)] = im_texture2[(coat_bool)]\n",
    "\n",
    "fig, (ax1,ax2,ax3)=plt.subplots(ncols=3, figsize=(15,20))\n",
    "ax1.imshow(coat_bool, cmap='gray')\n",
    "ax1.set_title('Binarized coat')\n",
    "ax2.imshow(im_model2, cmap='rainbow')\n",
    "ax2.set_title('Model')\n",
    "ax3.imshow(new_model2, cmap='gray')\n",
    "ax3.set_title('Model with coat - texture')\n",
    "plt.show()"
   ]
  },
  {
   "cell_type": "markdown",
   "metadata": {},
   "source": [
    "## Delivery\n",
    "\n",
    "Compressed file **P1_Student1_Student2.zip** that includes:\n",
    "- The notebook P1_Student1_Student2.ipynb completed with the solutions to the exercises and their corresponding comments.\n",
    "- The images used that are not provided in P1.zip.\n",
    "\n",
    "**Deadline (Campus Virtual): October 3, 11:00 p.m.** "
   ]
  }
 ],
 "metadata": {
  "kernelspec": {
   "display_name": "Python 2",
   "language": "python",
   "name": "python2"
  },
  "language_info": {
   "codemirror_mode": {
    "name": "ipython",
    "version": 2
   },
   "file_extension": ".py",
   "mimetype": "text/x-python",
   "name": "python",
   "nbconvert_exporter": "python",
   "pygments_lexer": "ipython2",
   "version": "2.7.13"
  }
 },
 "nbformat": 4,
 "nbformat_minor": 2
}
